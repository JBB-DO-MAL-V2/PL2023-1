{
  "cells": [
    {
      "attachments": {},
      "cell_type": "markdown",
      "metadata": {
        "id": "SN6uHpnNH5w4"
      },
      "source": [
        "# TPC3: Processador de Pessoas listadas nos Róis de Confessados\n",
        "\n",
        "Construa agora um ou vários programas Python\n",
        "para  processar o texto 'processos.txt' (procurar o ficheiro no Bb) com o intuito de\n",
        "calcular frequências de alguns elementos (a ideia é utilizar arrays associativos, dicionários em Python,\n",
        "para o efeito) conforme solicitado a seguir:\n",
        "\n",
        "> a) Calcula a frequência de processos por ano (primeiro elemento da data);\n",
        "\n",
        "> b) Calcula a frequência de nomes próprios (o primeiro em cada nome) e apelidos (o ultimo em cada nome) por séculos e apresenta os 5 mais usados;\n",
        "\n",
        "> c) Calcula a frequência dos vários tipos de relação: irmão, sobrinho, etc.;\n",
        "\n",
        "> d) Converta os 20 primeiros registos num novo ficheiro de output mas em formato **Json**.\n",
        "\n",
        "\n"
      ]
    },
    {
      "attachments": {},
      "cell_type": "markdown",
      "metadata": {},
      "source": [
        "# Exercício a"
      ]
    },
    {
      "cell_type": "code",
      "execution_count": 2,
      "metadata": {},
      "outputs": [
        {
          "name": "stdout",
          "output_type": "stream",
          "text": [
            "{'1616': 1, '1620': 1, '1622': 1, '1623': 3, '1625': 2, '1627': 2, '1628': 7, '1629': 1, '1630': 4, '1631': 2, '1632': 3, '1633': 2, '1634': 1, '1635': 1, '1636': 1, '1650': 1, '1655': 2, '1656': 2, '1658': 2, '1660': 1, '1661': 1, '1662': 1, '1663': 3, '1664': 5, '1665': 2, '1666': 6, '1667': 1, '1668': 5, '1669': 3, '1670': 3, '1671': 14, '1672': 17, '1673': 19, '1674': 3, '1675': 9, '1676': 9, '1677': 6, '1678': 12, '1679': 83, '1680': 158, '1681': 101, '1682': 106, '1683': 142, '1684': 238, '1685': 235, '1686': 189, '1687': 97, '1688': 110, '1689': 628, '1690': 278, '1691': 1084, '1692': 246, '1693': 28, '1694': 49, '1695': 44, '1696': 42, '1697': 28, '1698': 153, '1699': 97, '1700': 82, '1701': 108, '1702': 139, '1703': 143, '1704': 358, '1705': 76, '1706': 117, '1707': 116, '1708': 150, '1709': 148, '1710': 199, '1711': 75, '1712': 70, '1713': 266, '1714': 317, '1715': 90, '1716': 238, '1717': 267, '1718': 92, '1719': 387, '1720': 172, '1721': 135, '1722': 457, '1723': 129, '1724': 110, '1725': 272, '1726': 85, '1727': 169, '1728': 440, '1729': 47, '1730': 1200, '1731': 900, '1732': 2217, '1733': 1188, '1734': 888, '1735': 153, '1736': 47, '1737': 65, '1738': 213, '1739': 74, '1740': 13, '1741': 32, '1742': 22, '1743': 53, '1744': 41, '1745': 47, '1746': 49, '1747': 58, '1748': 46, '1749': 27, '1750': 53, '1751': 107, '1752': 80, '1753': 37, '1754': 303, '1755': 303, '1756': 75, '1757': 32, '1758': 22, '1759': 90, '1760': 280, '1761': 381, '1762': 342, '1763': 29, '1764': 24, '1765': 9, '1766': 9, '1767': 15, '1768': 27, '1769': 16, '1770': 27, '1771': 26, '1772': 122, '1773': 482, '1774': 38, '1775': 30, '1776': 36, '1777': 1142, '1778': 1066, '1779': 198, '1780': 218, '1781': 208, '1782': 155, '1783': 309, '1784': 361, '1785': 797, '1786': 352, '1787': 743, '1788': 416, '1789': 12, '1790': 1, '1791': 6, '1792': 46, '1793': 45, '1794': 57, '1795': 55, '1796': 86, '1797': 46, '1798': 56, '1799': 103, '1800': 107, '1801': 58, '1802': 90, '1803': 167, '1804': 123, '1805': 109, '1806': 106, '1807': 602, '1808': 311, '1809': 292, '1810': 47, '1811': 237, '1812': 259, '1813': 12, '1814': 11, '1815': 45, '1816': 352, '1817': 207, '1818': 229, '1819': 242, '1820': 253, '1821': 312, '1822': 303, '1823': 213, '1824': 251, '1825': 155, '1826': 171, '1827': 97, '1828': 172, '1829': 162, '1830': 174, '1831': 193, '1832': 301, '1833': 194, '1834': 13, '1836': 3, '1838': 10, '1839': 85, '1840': 38, '1841': 47, '1842': 36, '1843': 296, '1844': 196, '1845': 127, '1846': 86, '1847': 130, '1848': 125, '1849': 120, '1850': 115, '1851': 66, '1852': 74, '1853': 90, '1854': 112, '1855': 86, '1856': 72, '1857': 80, '1858': 46, '1859': 87, '1860': 77, '1861': 62, '1862': 40, '1863': 30, '1864': 56, '1865': 40, '1866': 33, '1867': 54, '1868': 22, '1869': 39, '1870': 12, '1871': 35, '1872': 42, '1873': 46, '1874': 46, '1875': 15, '1876': 40, '1877': 47, '1878': 76, '1879': 55, '1880': 62, '1881': 64, '1882': 50, '1883': 34, '1884': 44, '1885': 8, '1886': 46, '1887': 42, '1888': 70, '1889': 71, '1890': 44, '1891': 73, '1892': 57, '1893': 78, '1894': 74, '1895': 78, '1896': 75, '1897': 71, '1898': 91, '1899': 80, '1900': 50, '1901': 59, '1902': 83, '1903': 20, '1904': 52, '1905': 42, '1906': 63, '1907': 47, '1908': 51, '1909': 39, '1910': 27, '1911': 16}\n"
          ]
        }
      ],
      "source": [
        "import re\n",
        "\n",
        "def group_by_year():\n",
        "  file = open(\"processos.txt\", \"r\")\n",
        "  years = dict()\n",
        "  er_date = re.compile(r\"(?P<year>\\d+)-(?P<month>\\d+)-(?P<day>\\d+)\")\n",
        "  for line in file.readlines():\n",
        "    process = er_date.search(line)\n",
        "    if process != None:\n",
        "      year = process.groupdict().get(\"year\")\n",
        "      if year not in years:\n",
        "        years[year] = 1\n",
        "      else:\n",
        "        years[year] = years[year] + 1\n",
        "  file.close()\n",
        "  return dict(sorted(years.items()))\n",
        "\n",
        "print(group_by_year())\n",
        "  "
      ]
    },
    {
      "attachments": {},
      "cell_type": "markdown",
      "metadata": {},
      "source": [
        "# Exercício b"
      ]
    },
    {
      "cell_type": "code",
      "execution_count": 3,
      "metadata": {},
      "outputs": [
        {
          "name": "stdout",
          "output_type": "stream",
          "text": [
            "None\n"
          ]
        }
      ],
      "source": [
        "from math import floor\n",
        "#TODO:\n",
        "def freq_names():\n",
        "  file = open(\"processos.txt\", \"r\")\n",
        "  er_names = re.compile(r\"(?P<first_name>\\w+)[^\\d:-]+ (?P<last_name>\\w+)\")\n",
        "  er_date = re.compile(r\"(?P<year>\\d+)-(?P<month>\\d+)-(?P<day>\\d+)\")\n",
        "  all_first_names = dict()\n",
        "  all_last_names = dict()\n",
        "  for line in file.readlines():\n",
        "    process = er_date.search(line)\n",
        "    if process != None:\n",
        "      year = int(process.groupdict().get(\"year\"))\n",
        "      century = floor(year/100)+1\n",
        "      \n",
        "      first_last_name = er_names.findall(line)\n",
        "      for f_l_name in first_last_name:\n",
        "        first_name = f_l_name[0]\n",
        "        last_name = f_l_name[1]\n",
        "  file.close()\n",
        "\n",
        "\n",
        "print(freq_names())\n",
        "    \n",
        "\n"
      ]
    },
    {
      "attachments": {},
      "cell_type": "markdown",
      "metadata": {},
      "source": [
        "# Exercício c"
      ]
    },
    {
      "cell_type": "code",
      "execution_count": 138,
      "metadata": {},
      "outputs": [
        {
          "name": "stdout",
          "output_type": "stream",
          "text": [
            "{'avo materno': 37, 'avo paterno': 9, 'filho': 312, 'filhos': 24, 'irmao': 11313, 'irmao materno': 44, 'irmao paterno': 440, 'irmaos': 544, 'irmaos maternos': 4, 'irmaos paternos': 20, 'neto materno': 39, 'neto paterno': 8, 'pai': 439, 'parente': 2, 'primo': 586, 'primo materno': 205, 'primo paterno': 153, 'primos': 12, 'primos maternos': 1, 'primos paternos': 1, 'sobrinho bisneto materno': 3, 'sobrinho bisneto paterno': 3, 'sobrinho materno': 1584, 'sobrinho neto': 2, 'sobrinho neto materno': 138, 'sobrinho neto paterno': 88, 'sobrinho paterno': 1546, 'sobrinhos maternos': 85, 'sobrinhos netos maternos': 5, 'sobrinhos netos paternos': 2, 'sobrinhos paternos': 52, 'tio avo': 2, 'tio avo materno': 143, 'tio avo paterno': 92, 'tio bisavo materno': 2, 'tio bisavo paterno': 1, 'tio materno': 1786, 'tio paterno': 1747, 'tios maternos': 18, 'tios paternos': 6}\n"
          ]
        }
      ],
      "source": [
        "def freq_relation():\n",
        "  file = open(\"processos.txt\", \"r\")\n",
        "  relation = dict()\n",
        "  pattern = re.compile(r\",[^\\s*\\d+][\\w\\s]*. Proc.\")\n",
        "  for line in file.readlines():\n",
        "    rel = pattern.findall(line)\n",
        "    if rel != []:\n",
        "      for r in rel:\n",
        "        r = str(r).lower()\n",
        "        r = r[1:-7]\n",
        "        if r not in relation:\n",
        "          relation[r] = 1\n",
        "        else:\n",
        "          relation[r] = relation.get(r) + 1\n",
        "  file.close()\n",
        "\n",
        "  return dict(sorted(relation.items()))\n",
        "\n",
        "print(freq_relation())\n"
      ]
    },
    {
      "attachments": {},
      "cell_type": "markdown",
      "metadata": {},
      "source": [
        "# Exercício d"
      ]
    },
    {
      "cell_type": "code",
      "execution_count": 14,
      "metadata": {},
      "outputs": [],
      "source": [
        "import json\n",
        "#FIXME:\n",
        "\n",
        "def to_json(filepath: str):\n",
        "  if re.match(r\".json\",filepath) == None:\n",
        "    filepath = filepath + \".json\"\n",
        "  out_file = open(filepath, \"w\")\n",
        "  file = open(\"processos.txt\", \"r\")\n",
        "  pattern = re.compile(r\"(?P<id>\\d+)[::]+(?P<year>\\d+)-(?P<month>\\d+)-(?P<day>\\d+)[::]+(?P<name>[\\w\\s]+)\")\n",
        "  for i in range(0,20):\n",
        "    line = file.readline(i)\n",
        "    if pattern.search(line) != None:\n",
        "      data = pattern.search(line).groupdict()\n",
        "      out_file.write(\"{\")\n",
        "      for k,v in data.items():\n",
        "        if k == \"id\":\n",
        "          out_file.write(f\"\\n    {str(k)}: {str(v)}\")\n",
        "        else:  \n",
        "          out_file.write(f\",\\n    {str(k)}: {str(v)}\")\n",
        "      out_file.write(\"\\n}\\n\")\n",
        "\n",
        "  out_file.close()\n",
        "  file.close()\n",
        "\n",
        "to_json(\"teste\")"
      ]
    }
  ],
  "metadata": {
    "colab": {
      "provenance": []
    },
    "kernelspec": {
      "display_name": "Python 3",
      "language": "python",
      "name": "python3"
    },
    "language_info": {
      "codemirror_mode": {
        "name": "ipython",
        "version": 3
      },
      "file_extension": ".py",
      "mimetype": "text/x-python",
      "name": "python",
      "nbconvert_exporter": "python",
      "pygments_lexer": "ipython3",
      "version": "3.10.7"
    },
    "vscode": {
      "interpreter": {
        "hash": "865d8b2eb28e274047ba64063dfb6a2aabf0dfec4905d304d7a76618dae6fdd4"
      }
    }
  },
  "nbformat": 4,
  "nbformat_minor": 0
}
