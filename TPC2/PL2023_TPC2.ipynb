{
  "cells": [
    {
      "attachments": {},
      "cell_type": "markdown",
      "metadata": {
        "id": "0JpXqXdRLYK6"
      },
      "source": [
        "# TPC2: Somador on/off\n",
        "\n",
        "Crie um programa em Python que tenha o seguinte comportamento:\n",
        "\n",
        "  * Pretende-se um programa que some todas as sequências de dígitos que encontre num texto;\n",
        "  * Prepare o programa para ler o texto do canal de entrada: stdin;\n",
        "  * Sempre que encontrar a string “Off” em qualquer combinação de maiúsculas e minúsculas, esse comportamento é desligado;\n",
        "  * Sempre que encontrar a string “On” em qualquer combinação de maiúsculas e minúsculas, esse comportamento é novamente ligado;\n",
        "  * Sempre que encontrar o caráter “=”, o resultado da soma é colocado na saída.\n"
      ]
    },
    {
      "attachments": {},
      "cell_type": "markdown",
      "metadata": {},
      "source": [
        "# Exercício 1"
      ]
    },
    {
      "cell_type": "code",
      "execution_count": 13,
      "metadata": {},
      "outputs": [
        {
          "data": {
            "text/plain": [
              "116"
            ]
          },
          "execution_count": 13,
          "metadata": {},
          "output_type": "execute_result"
        }
      ],
      "source": [
        "import re\n",
        "\n",
        "def sum_digits(text: str):\n",
        "  return sum(map(int,re.findall(\"\\d+\",text)))\n",
        "\n",
        "# 0 + 100 + 11 + 5 = 116\n",
        "sum_digits(\"s0dasd100asdas11db5\")"
      ]
    },
    {
      "attachments": {},
      "cell_type": "markdown",
      "metadata": {},
      "source": [
        "# Exercício 2"
      ]
    },
    {
      "cell_type": "code",
      "execution_count": 18,
      "metadata": {},
      "outputs": [
        {
          "data": {
            "text/plain": [
              "135"
            ]
          },
          "execution_count": 18,
          "metadata": {},
          "output_type": "execute_result"
        }
      ],
      "source": [
        "def stdin_sum_digits():\n",
        "  return sum_digits(input(\"write some text\"))\n",
        "\n",
        "stdin_sum_digits()"
      ]
    },
    {
      "attachments": {},
      "cell_type": "markdown",
      "metadata": {},
      "source": [
        "# Exercício 3"
      ]
    },
    {
      "cell_type": "code",
      "execution_count": 72,
      "metadata": {},
      "outputs": [
        {
          "name": "stdout",
          "output_type": "stream",
          "text": [
            "Lorem Ipsum is simply dummy text Off tHE priNTINg AND TYpEStting\n"
          ]
        },
        {
          "data": {
            "text/plain": [
              "'Lorem Ipsum is simply dummy text Off the printing and typestting'"
            ]
          },
          "execution_count": 72,
          "metadata": {},
          "output_type": "execute_result"
        }
      ],
      "source": [
        "def turnOff(text: str):\n",
        "  match = re.search(\"Off\",text)\n",
        "  res = text[:match.start()] + \"Off\" + text[match.end():].lower()\n",
        "  print(text)\n",
        "  return res\n",
        "\n",
        "text = \"Lorem Ipsum is simply dummy text Off tHE priNTINg AND TYpEStting\"\n",
        "turnOff(text)"
      ]
    },
    {
      "attachments": {},
      "cell_type": "markdown",
      "metadata": {},
      "source": [
        "# Exercício 4"
      ]
    },
    {
      "cell_type": "code",
      "execution_count": 92,
      "metadata": {},
      "outputs": [
        {
          "name": "stdout",
          "output_type": "stream",
          "text": [
            "Lorem Ipsum is simply dummy text On tHE priNTINg AND TYpEStting\n"
          ]
        },
        {
          "data": {
            "text/plain": [
              "'Lorem Ipsum is simply dummy text On THE PRINTING AND TYPESTTING'"
            ]
          },
          "execution_count": 92,
          "metadata": {},
          "output_type": "execute_result"
        }
      ],
      "source": [
        "def turnOn(text: str):\n",
        "  match = re.search(\"On\",text)\n",
        "  res = text[:match.start()] + \"On\" + text[match.end():].upper()\n",
        "  print(text)\n",
        "  return res\n",
        "\n",
        "text = \"Lorem Ipsum is simply dummy text On tHE priNTINg AND TYpEStting\"\n",
        "turnOn(text)"
      ]
    },
    {
      "attachments": {},
      "cell_type": "markdown",
      "metadata": {},
      "source": [
        "# Exercício 5"
      ]
    },
    {
      "cell_type": "code",
      "execution_count": 100,
      "metadata": {},
      "outputs": [
        {
          "data": {
            "text/plain": [
              "116"
            ]
          },
          "execution_count": 100,
          "metadata": {},
          "output_type": "execute_result"
        }
      ],
      "source": [
        "def string_calculator(text: str):\n",
        "    if re.search(\"=\",text) != None:\n",
        "        return sum_digits(text)\n",
        "    return None\n",
        "\n",
        "# 0 + 100 + 11 + 5 = 116\n",
        "string_calculator(\"s0dasd100a=sdas11db5\")"
      ]
    }
  ],
  "metadata": {
    "colab": {
      "provenance": []
    },
    "kernelspec": {
      "display_name": "Python 3",
      "language": "python",
      "name": "python3"
    },
    "language_info": {
      "codemirror_mode": {
        "name": "ipython",
        "version": 3
      },
      "file_extension": ".py",
      "mimetype": "text/x-python",
      "name": "python",
      "nbconvert_exporter": "python",
      "pygments_lexer": "ipython3",
      "version": "3.10.7"
    },
    "vscode": {
      "interpreter": {
        "hash": "865d8b2eb28e274047ba64063dfb6a2aabf0dfec4905d304d7a76618dae6fdd4"
      }
    }
  },
  "nbformat": 4,
  "nbformat_minor": 0
}
