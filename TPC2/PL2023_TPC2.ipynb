{
  "cells": [
    {
      "attachments": {},
      "cell_type": "markdown",
      "metadata": {
        "id": "0JpXqXdRLYK6"
      },
      "source": [
        "# TPC2: Somador on/off\n",
        "\n",
        "Crie um programa em Python que tenha o seguinte comportamento:\n",
        "\n",
        "  * Pretende-se um programa que some todas as sequências de dígitos que encontre num texto;\n",
        "  * Prepare o programa para ler o texto do canal de entrada: stdin;\n",
        "  * Sempre que encontrar a string “Off” em qualquer combinação de maiúsculas e minúsculas, esse comportamento é desligado;\n",
        "  * Sempre que encontrar a string “On” em qualquer combinação de maiúsculas e minúsculas, esse comportamento é novamente ligado;\n",
        "  * Sempre que encontrar o caráter “=”, o resultado da soma é colocado na saída.\n"
      ]
    },
    {
      "attachments": {},
      "cell_type": "markdown",
      "metadata": {},
      "source": [
        "# Exercício 1"
      ]
    },
    {
      "cell_type": "code",
      "execution_count": 2,
      "metadata": {},
      "outputs": [
        {
          "data": {
            "text/plain": [
              "116"
            ]
          },
          "execution_count": 2,
          "metadata": {},
          "output_type": "execute_result"
        }
      ],
      "source": [
        "import re\n",
        "\n",
        "def sum_digits(text: str):\n",
        "  return sum(map(int,re.findall(\"\\d+\",text)))\n",
        "\n",
        "# 0 + 100 + 11 + 5 = 116\n",
        "sum_digits(\"s0dasd100asdas11db5\")"
      ]
    },
    {
      "attachments": {},
      "cell_type": "markdown",
      "metadata": {},
      "source": [
        "# Exercício 2"
      ]
    },
    {
      "cell_type": "code",
      "execution_count": 18,
      "metadata": {},
      "outputs": [
        {
          "data": {
            "text/plain": [
              "135"
            ]
          },
          "execution_count": 18,
          "metadata": {},
          "output_type": "execute_result"
        }
      ],
      "source": [
        "def stdin_sum_digits():\n",
        "  return sum_digits(input(\"write some text\"))\n",
        "\n",
        "stdin_sum_digits()"
      ]
    },
    {
      "attachments": {},
      "cell_type": "markdown",
      "metadata": {},
      "source": [
        "# Exercício 3"
      ]
    },
    {
      "cell_type": "code",
      "execution_count": 7,
      "metadata": {},
      "outputs": [
        {
          "data": {
            "text/plain": [
              "124"
            ]
          },
          "execution_count": 7,
          "metadata": {},
          "output_type": "execute_result"
        }
      ],
      "source": [
        "def turnOff(text: str):\n",
        "  match = re.search(\"Off\",text)\n",
        "  res = text[:match.start()]\n",
        "  return sum_digits(res)\n",
        "\n",
        "text = \"Lorem Ipsum 123 sim1ly dummy text Off tHE pri15g AND TYpEStting\"\n",
        "turnOff(text)"
      ]
    },
    {
      "attachments": {},
      "cell_type": "markdown",
      "metadata": {},
      "source": [
        "# Exercício 4"
      ]
    },
    {
      "cell_type": "code",
      "execution_count": 9,
      "metadata": {},
      "outputs": [
        {
          "data": {
            "text/plain": [
              "124"
            ]
          },
          "execution_count": 9,
          "metadata": {},
          "output_type": "execute_result"
        }
      ],
      "source": [
        "def turnOn(text: str):\n",
        "  match = re.search(\"On\",text)\n",
        "  res = text[match.end():]\n",
        "  return sum_digits(res)\n",
        "\n",
        "text = \"Lorem Ip214m is s12ply dummy text On tHE p123Ng AND TYpESt1ing\"\n",
        "turnOn(text)"
      ]
    },
    {
      "attachments": {},
      "cell_type": "markdown",
      "metadata": {},
      "source": [
        "# Exercício 5"
      ]
    },
    {
      "cell_type": "code",
      "execution_count": 10,
      "metadata": {},
      "outputs": [
        {
          "data": {
            "text/plain": [
              "116"
            ]
          },
          "execution_count": 10,
          "metadata": {},
          "output_type": "execute_result"
        }
      ],
      "source": [
        "def string_calculator(text: str):\n",
        "    if re.search(\"=\",text) != None:\n",
        "        return sum_digits(text)\n",
        "    return None\n",
        "\n",
        "# 0 + 100 + 11 + 5 = 116\n",
        "string_calculator(\"s0dasd100a=sdas11db5\")"
      ]
    },
    {
      "attachments": {},
      "cell_type": "markdown",
      "metadata": {},
      "source": [
        "# Extra\n",
        "### Calculadora com todas as funcionalidades anteriores\n",
        "\n",
        "Assumindo que recebe sempre uma string importada pelo stdin, e por default, tendo um '=' a função *calculator* devolve a soma dos digitos presentes.\n",
        "Assume-se portanto que o estado inicial será similar à string começar por 'On', obrigado ao primeiro argumento de ativação/desativação ser 'Off'.\n",
        "\n",
        "Esta solução não responde a todas as possibilidades:\n",
        "- caso do off e do on iniciarem por ordem inversa\n",
        "- não garante que funcione para strings que sejam repetição de sequências de On/Off"
      ]
    },
    {
      "cell_type": "code",
      "execution_count": 35,
      "metadata": {},
      "outputs": [
        {
          "data": {
            "text/plain": [
              "0"
            ]
          },
          "execution_count": 35,
          "metadata": {},
          "output_type": "execute_result"
        }
      ],
      "source": [
        "def calculator(text: str):\n",
        "    if text== \"\" :\n",
        "        text = input(\"insert your text\")\n",
        "\n",
        "    pattern = \"(?<!Off\\s)\\d+(?!\\sOn)\" \n",
        "    # every char behind Off its counter so it will sum all digits \n",
        "    # every digit in between Off and next On it wont be counted\n",
        "    # every char behind On will not be counted \n",
        "    matches = re.findall(pattern, text)\n",
        "    result = sum_digits(str(matches))\n",
        "    \n",
        "    if \"Off\" in text and \"On\" in text:\n",
        "        off_index = text.index(\"Off\")\n",
        "        on_index = text.index(\"On\")\n",
        "        digits_between_off_on = re.findall(\"\\d+\", text[off_index:on_index])\n",
        "        result -= sum(int(d) for d in digits_between_off_on)\n",
        "    \n",
        "    return result\n",
        "\n",
        "# \"absdIASUDHA5asda10=Offasdasd123On10\" = 25\n",
        "calculator(\"\")"
      ]
    }
  ],
  "metadata": {
    "colab": {
      "provenance": []
    },
    "kernelspec": {
      "display_name": "Python 3",
      "language": "python",
      "name": "python3"
    },
    "language_info": {
      "codemirror_mode": {
        "name": "ipython",
        "version": 3
      },
      "file_extension": ".py",
      "mimetype": "text/x-python",
      "name": "python",
      "nbconvert_exporter": "python",
      "pygments_lexer": "ipython3",
      "version": "3.10.7"
    },
    "vscode": {
      "interpreter": {
        "hash": "865d8b2eb28e274047ba64063dfb6a2aabf0dfec4905d304d7a76618dae6fdd4"
      }
    }
  },
  "nbformat": 4,
  "nbformat_minor": 0
}
