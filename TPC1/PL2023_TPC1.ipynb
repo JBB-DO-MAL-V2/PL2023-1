{
  "cells": [
    {
      "cell_type": "markdown",
      "metadata": {
        "id": "0JpXqXdRLYK6"
      },
      "source": [
        "# TPC1: Análise de dados: doença cardíaca\n",
        "\n",
        "Descarregue o ficheiro de dados: `myheart.csv`\n",
        "Crie um programa em Python, conjunto de funções, que responda às seguintes questões:\n",
        "* Crie uma função que lê a informação do ficheiro para um modelo, previamente pensado em memória;\n",
        "* Pense num modelo para guardar uma distribuição;\n",
        "* Crie uma função que calcula a distribuição da doença por sexo;\n",
        "* Crie uma função que calcula a distribuição da doença por escalões etários. Considere os seguintes escalões: [30-34], [35-39], [40-44], ...\n",
        "* Crie uma função que calcula a distribuição da doença por níveis de colesterol. Considere um nível igual a um intervalo de 10 unidades, comece no limite inferior e crie os níveis necessários até abranger o limite superior;\n",
        "* Crie uma função que imprime na forma de uma tabela uma distribuição;\n",
        "* Especifique um programa que ao executar apresenta as tabelas correspondentes às distribuições pedidas;\n",
        "* Extra: explore o módulo matplotlib e crie gráficos para as suas distribuições."
      ]
    },
    {
      "attachments": {},
      "cell_type": "markdown",
      "metadata": {},
      "source": [
        "# Exercício 1"
      ]
    },
    {
      "cell_type": "code",
      "execution_count": null,
      "metadata": {},
      "outputs": [],
      "source": [
        "# idade,sexo,tensão,colesterol,batimento,temDoenças\n",
        "\n",
        "def readfile():\n",
        "  model = dict()\n",
        "  idx = 0\n",
        "  file = open(\"myheart.csv\")\n",
        "  for line in file.readlines():\n",
        "    if idx != 0:\n",
        "      model[idx-1] = line.strip()\n",
        "    idx+=1\n",
        "  return model\n",
        "\n",
        "print(readfile())\n",
        "\n",
        "def total():\n",
        "    return len(readfile().values())\n"
      ]
    },
    {
      "attachments": {},
      "cell_type": "markdown",
      "metadata": {},
      "source": [
        "# Exercício 2"
      ]
    },
    {
      "cell_type": "code",
      "execution_count": 61,
      "metadata": {},
      "outputs": [
        {
          "name": "stdout",
          "output_type": "stream",
          "text": [
            "masculino(S,N): (428, 242)\n",
            "feminino(S,N): (40, 129)\n",
            "total masculino: 670\n",
            "total feminino: 169\n",
            "total: 839\n"
          ]
        }
      ],
      "source": [
        "def distribution_by_sex():\n",
        "    model = readfile()\n",
        "    total_m = 0\n",
        "    total_f = 0\n",
        "    sick = dict()\n",
        "    sick['M'] = (0,0) # (Y,N)\n",
        "    sick['F'] = (0,0) # (Y,N)\n",
        "    for v in model.values():\n",
        "        split = v.split(',')\n",
        "        if split[1] == 'M':\n",
        "            total_m+=1\n",
        "        elif split[1] == 'F':\n",
        "            total_f+=1\n",
        "\n",
        "        if int(split[-1]) == 1:\n",
        "            sick[split[1]] = (sick[split[1]][0]+1, sick[split[1]][1])\n",
        "        elif int(split[-1]) == 0:\n",
        "            sick[split[1]] = (sick[split[1]][0], sick[split[1]][1]+1)\n",
        "\n",
        "    return (sick, total_m, total_f)\n",
        "\n",
        "\n",
        "res = distribution_by_sex()\n",
        "print(f\"masculino(S,N): {res[0]['M']}\")\n",
        "print(f\"feminino(S,N): {res[0]['F']}\")\n",
        "print(f\"total masculino: {res[1]}\")\n",
        "print(f\"total feminino: {res[2]}\")\n",
        "print(f\"total: {total()}\")\n"
      ]
    },
    {
      "attachments": {},
      "cell_type": "markdown",
      "metadata": {},
      "source": [
        "# Exercício 3\n"
      ]
    },
    {
      "cell_type": "code",
      "execution_count": 62,
      "metadata": {},
      "outputs": [
        {
          "name": "stdout",
          "output_type": "stream",
          "text": [
            "2\n"
          ]
        }
      ],
      "source": [
        "def distribution_by_age_group():\n",
        "    model = readfile()\n",
        "    age_group = dict()\n",
        "    \n",
        "    \n",
        "\n",
        "\n",
        "    return age_group\n",
        "\n",
        "\n",
        "print(distribution_by_age_group())\n",
        "\n"
      ]
    },
    {
      "attachments": {},
      "cell_type": "markdown",
      "metadata": {},
      "source": [
        "# Exercício 4\n"
      ]
    },
    {
      "cell_type": "code",
      "execution_count": 74,
      "metadata": {},
      "outputs": [
        {
          "name": "stdout",
          "output_type": "stream",
          "text": [
            "{289: 6, 180: 3, 283: 4, 214: 7, 195: 7, 339: 2, 237: 6, 208: 7, 207: 6, 284: 3, 211: 9, 164: 1, 204: 7, 234: 6, 273: 5, 196: 6, 201: 6, 248: 5, 267: 5, 223: 9, 184: 4, 288: 6, 215: 6, 209: 5, 260: 7, 468: 1, 188: 3, 518: 1, 167: 3, 224: 6, 172: 2, 186: 5, 254: 11, 306: 3, 250: 5, 177: 5, 227: 3, 230: 9, 294: 3, 264: 4, 259: 2, 175: 2, 318: 2, 216: 8, 340: 1, 233: 6, 205: 2, 245: 6, 194: 2, 270: 6, 213: 7, 365: 1, 342: 2, 253: 2, 277: 5, 202: 3, 297: 4, 225: 6, 246: 8, 412: 1, 265: 4, 182: 5, 218: 6, 268: 4, 163: 2, 529: 1, 100: 2, 206: 2, 238: 4, 139: 2, 263: 6, 291: 3, 229: 3, 307: 1, 210: 4, 329: 1, 147: 2, 85: 1, 269: 5, 275: 7, 179: 2, 392: 1, 466: 1, 129: 1, 241: 3, 255: 2, 276: 4, 282: 6, 338: 1, 160: 6, 156: 1, 272: 3, 240: 7, 393: 1, 161: 2, 228: 5, 292: 4, 388: 1, 166: 4, 247: 1, 331: 1, 341: 2, 243: 6, 279: 1, 198: 6, 249: 5, 168: 2, 603: 1, 159: 1, 190: 2, 185: 2, 290: 1, 212: 4, 231: 4, 222: 6, 235: 5, 320: 2, 187: 1, 266: 3, 287: 2, 404: 1, 312: 2, 251: 1, 328: 1, 285: 2, 280: 2, 192: 2, 193: 5, 308: 5, 219: 6, 257: 2, 132: 1, 226: 6, 217: 4, 303: 4, 298: 5, 256: 5, 117: 1, 295: 5, 173: 2, 315: 3, 281: 3, 309: 4, 200: 4, 336: 1, 355: 1, 326: 2, 171: 3, 491: 1, 271: 4, 274: 5, 394: 2, 221: 4, 126: 2, 305: 4, 220: 8, 242: 2, 347: 1, 344: 1, 358: 1, 169: 1, 181: 2, 0: 172, 236: 5, 203: 5, 153: 1, 316: 1, 311: 2, 252: 3, 458: 1, 384: 1, 258: 7, 349: 1, 142: 1, 197: 5, 113: 1, 261: 3, 310: 3, 232: 2, 110: 1, 123: 1, 170: 2, 369: 1, 152: 1, 244: 4, 165: 1, 337: 1, 300: 2, 333: 1, 385: 1, 322: 1, 564: 1, 239: 4, 293: 1, 407: 1, 149: 2, 199: 2, 417: 1, 178: 1, 319: 1, 354: 1, 330: 2, 302: 1, 313: 1, 141: 1, 327: 1, 304: 2, 286: 1, 360: 1, 262: 1, 325: 1, 299: 2, 409: 1, 174: 1}\n"
          ]
        }
      ],
      "source": [
        "def distribution_by_colesterol():\n",
        "    colesterol = dict()\n",
        "    for v in readfile().values():\n",
        "        splited = v.split(',')\n",
        "        k = int(splited[3])\n",
        "        if k not in colesterol.keys():\n",
        "            colesterol[k] = 1\n",
        "        else:\n",
        "            colesterol[k] = colesterol[k] + 1\n",
        "    return colesterol\n",
        "\n",
        "print(distribution_by_colesterol())"
      ]
    },
    {
      "attachments": {},
      "cell_type": "markdown",
      "metadata": {},
      "source": [
        "# Exercício 5\n"
      ]
    },
    {
      "cell_type": "code",
      "execution_count": 78,
      "metadata": {},
      "outputs": [
        {
          "name": "stdout",
          "output_type": "stream",
          "text": [
            "----|----------\n",
            "289 | 6\n",
            "180 | 3\n",
            "283 | 4\n",
            "214 | 7\n",
            "195 | 7\n",
            "339 | 2\n",
            "237 | 6\n",
            "208 | 7\n",
            "207 | 6\n",
            "284 | 3\n",
            "211 | 9\n",
            "164 | 1\n",
            "204 | 7\n",
            "234 | 6\n",
            "273 | 5\n",
            "196 | 6\n",
            "201 | 6\n",
            "248 | 5\n",
            "267 | 5\n",
            "223 | 9\n",
            "184 | 4\n",
            "288 | 6\n",
            "215 | 6\n",
            "209 | 5\n",
            "260 | 7\n",
            "468 | 1\n",
            "188 | 3\n",
            "518 | 1\n",
            "167 | 3\n",
            "224 | 6\n",
            "172 | 2\n",
            "186 | 5\n",
            "254 | 11\n",
            "306 | 3\n",
            "250 | 5\n",
            "177 | 5\n",
            "227 | 3\n",
            "230 | 9\n",
            "294 | 3\n",
            "264 | 4\n",
            "259 | 2\n",
            "175 | 2\n",
            "318 | 2\n",
            "216 | 8\n",
            "340 | 1\n",
            "233 | 6\n",
            "205 | 2\n",
            "245 | 6\n",
            "194 | 2\n",
            "270 | 6\n",
            "213 | 7\n",
            "365 | 1\n",
            "342 | 2\n",
            "253 | 2\n",
            "277 | 5\n",
            "202 | 3\n",
            "297 | 4\n",
            "225 | 6\n",
            "246 | 8\n",
            "412 | 1\n",
            "265 | 4\n",
            "182 | 5\n",
            "218 | 6\n",
            "268 | 4\n",
            "163 | 2\n",
            "529 | 1\n",
            "100 | 2\n",
            "206 | 2\n",
            "238 | 4\n",
            "139 | 2\n",
            "263 | 6\n",
            "291 | 3\n",
            "229 | 3\n",
            "307 | 1\n",
            "210 | 4\n",
            "329 | 1\n",
            "147 | 2\n",
            "85 | 1\n",
            "269 | 5\n",
            "275 | 7\n",
            "179 | 2\n",
            "392 | 1\n",
            "466 | 1\n",
            "129 | 1\n",
            "241 | 3\n",
            "255 | 2\n",
            "276 | 4\n",
            "282 | 6\n",
            "338 | 1\n",
            "160 | 6\n",
            "156 | 1\n",
            "272 | 3\n",
            "240 | 7\n",
            "393 | 1\n",
            "161 | 2\n",
            "228 | 5\n",
            "292 | 4\n",
            "388 | 1\n",
            "166 | 4\n",
            "247 | 1\n",
            "331 | 1\n",
            "341 | 2\n",
            "243 | 6\n",
            "279 | 1\n",
            "198 | 6\n",
            "249 | 5\n",
            "168 | 2\n",
            "603 | 1\n",
            "159 | 1\n",
            "190 | 2\n",
            "185 | 2\n",
            "290 | 1\n",
            "212 | 4\n",
            "231 | 4\n",
            "222 | 6\n",
            "235 | 5\n",
            "320 | 2\n",
            "187 | 1\n",
            "266 | 3\n",
            "287 | 2\n",
            "404 | 1\n",
            "312 | 2\n",
            "251 | 1\n",
            "328 | 1\n",
            "285 | 2\n",
            "280 | 2\n",
            "192 | 2\n",
            "193 | 5\n",
            "308 | 5\n",
            "219 | 6\n",
            "257 | 2\n",
            "132 | 1\n",
            "226 | 6\n",
            "217 | 4\n",
            "303 | 4\n",
            "298 | 5\n",
            "256 | 5\n",
            "117 | 1\n",
            "295 | 5\n",
            "173 | 2\n",
            "315 | 3\n",
            "281 | 3\n",
            "309 | 4\n",
            "200 | 4\n",
            "336 | 1\n",
            "355 | 1\n",
            "326 | 2\n",
            "171 | 3\n",
            "491 | 1\n",
            "271 | 4\n",
            "274 | 5\n",
            "394 | 2\n",
            "221 | 4\n",
            "126 | 2\n",
            "305 | 4\n",
            "220 | 8\n",
            "242 | 2\n",
            "347 | 1\n",
            "344 | 1\n",
            "358 | 1\n",
            "169 | 1\n",
            "181 | 2\n",
            "0 | 172\n",
            "236 | 5\n",
            "203 | 5\n",
            "153 | 1\n",
            "316 | 1\n",
            "311 | 2\n",
            "252 | 3\n",
            "458 | 1\n",
            "384 | 1\n",
            "258 | 7\n",
            "349 | 1\n",
            "142 | 1\n",
            "197 | 5\n",
            "113 | 1\n",
            "261 | 3\n",
            "310 | 3\n",
            "232 | 2\n",
            "110 | 1\n",
            "123 | 1\n",
            "170 | 2\n",
            "369 | 1\n",
            "152 | 1\n",
            "244 | 4\n",
            "165 | 1\n",
            "337 | 1\n",
            "300 | 2\n",
            "333 | 1\n",
            "385 | 1\n",
            "322 | 1\n",
            "564 | 1\n",
            "239 | 4\n",
            "293 | 1\n",
            "407 | 1\n",
            "149 | 2\n",
            "199 | 2\n",
            "417 | 1\n",
            "178 | 1\n",
            "319 | 1\n",
            "354 | 1\n",
            "330 | 2\n",
            "302 | 1\n",
            "313 | 1\n",
            "141 | 1\n",
            "327 | 1\n",
            "304 | 2\n",
            "286 | 1\n",
            "360 | 1\n",
            "262 | 1\n",
            "325 | 1\n",
            "299 | 2\n",
            "409 | 1\n",
            "174 | 1\n"
          ]
        }
      ],
      "source": [
        "def distribution_to_table(distribution:dict):\n",
        "    print(\"----|----------\")\n",
        "    for k in distribution.keys():\n",
        "        print(f\"{str(k)} | {str(distribution[k])}\")\n",
        "    \n",
        "distribution_to_table(distribution_by_colesterol())"
      ]
    },
    {
      "attachments": {},
      "cell_type": "markdown",
      "metadata": {},
      "source": [
        "# Exercício 6\n"
      ]
    },
    {
      "cell_type": "code",
      "execution_count": null,
      "metadata": {},
      "outputs": [],
      "source": [
        "def distributions_to_table():\n",
        "    return None"
      ]
    },
    {
      "attachments": {},
      "cell_type": "markdown",
      "metadata": {},
      "source": [
        "# Exercício 7\n"
      ]
    },
    {
      "cell_type": "code",
      "execution_count": null,
      "metadata": {},
      "outputs": [],
      "source": [
        "def distribution_graph():\n",
        "    return None"
      ]
    }
  ],
  "metadata": {
    "colab": {
      "provenance": []
    },
    "kernelspec": {
      "display_name": "Python 3",
      "language": "python",
      "name": "python3"
    },
    "language_info": {
      "codemirror_mode": {
        "name": "ipython",
        "version": 3
      },
      "file_extension": ".py",
      "mimetype": "text/x-python",
      "name": "python",
      "nbconvert_exporter": "python",
      "pygments_lexer": "ipython3",
      "version": "3.10.7"
    },
    "vscode": {
      "interpreter": {
        "hash": "865d8b2eb28e274047ba64063dfb6a2aabf0dfec4905d304d7a76618dae6fdd4"
      }
    }
  },
  "nbformat": 4,
  "nbformat_minor": 0
}
